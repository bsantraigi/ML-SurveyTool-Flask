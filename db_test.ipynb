{
 "cells": [
  {
   "cell_type": "code",
   "execution_count": 2,
   "id": "0b4f5c0e-8ed6-401f-893a-ab9e94527bca",
   "metadata": {},
   "outputs": [],
   "source": [
    "from app import app, db, User, Question, Submission\n",
    "import pandas as pd\n",
    "import json"
   ]
  },
  {
   "cell_type": "code",
   "execution_count": 3,
   "id": "09b0de6a-a68b-44e6-ac67-0c3052bbcdae",
   "metadata": {},
   "outputs": [],
   "source": [
    "with open(\"data/survey_input_DD_cc_only-test.json\") as f:\n",
    "    data = json.load(f)"
   ]
  },
  {
   "cell_type": "code",
   "execution_count": 4,
   "id": "7ebe6fc8-05cf-4d85-b298-5b3afd5fc335",
   "metadata": {},
   "outputs": [
    {
     "data": {
      "text/plain": [
       "{'id': 4197,\n",
       " 'con': '<div class=\"utterance\"><b>Speaker 1:</b> Hi . What\\'s your name ?  </div><div class=\"utterance\"><b>Speaker 2:</b>  My name is Jung Min . What\\'s your name ?  </div><div class=\"utterance\"><b>Speaker 1:</b>  My name is Jessica . It\\'s nice to meet you .  </div><div class=\"utterance\"><b>Speaker 2:</b>  Yes . It\\'s nice to meet you too . Are you a new student too ?  </div><div class=\"utterance\"><b>Speaker 1:</b>  No . I\\'m a sophomore . I take it you are a new student ?  </div><div class=\"utterance\"><b>Speaker 2:</b>  Yeah . It\\'s pretty exciting to be here .  </div><div class=\"utterance\"><b>Speaker 1:</b>  Have fun while it lasts . The excitement wears off real quick . Especially after you see how much homework you get . Where are you from ?  </div><div class=\"utterance\"><b>Speaker 2:</b>  I\\'m from Korea . My parents wanted me to go to an American university , so I came here .  </div><div class=\"utterance\"><b>Speaker 1:</b>  I have never been to Korea . I\\'ve been to Japan before , but never Korea .  </div><div class=\"utterance\"><b>Speaker 2:</b>  Why were you in Japan ?  </div>',\n",
       " 'context_raw': [\"Hi . What's your name ? \",\n",
       "  \" My name is Jung Min . What's your name ? \",\n",
       "  \" My name is Jessica . It's nice to meet you . \",\n",
       "  \" Yes . It's nice to meet you too . Are you a new student too ? \",\n",
       "  \" No . I'm a sophomore . I take it you are a new student ? \",\n",
       "  \" Yeah . It's pretty exciting to be here . \",\n",
       "  ' Have fun while it lasts . The excitement wears off real quick . Especially after you see how much homework you get . Where are you from ? ',\n",
       "  \" I'm from Korea . My parents wanted me to go to an American university , so I came here . \",\n",
       "  \" I have never been to Korea . I've been to Japan before , but never Korea . \",\n",
       "  ' Why were you in Japan ? '],\n",
       " 'response_A': '<div class=\"utterance\"><b>Speaker 1:</b> My father thought it would be a good experience to take a vacation to a different country . He\\'s so into learning about different cultures .  </div>',\n",
       " 'response_A_raw': \"My father thought it would be a good experience to take a vacation to a different country . He's so into learning about different cultures . \",\n",
       " 'response_A_source': 'gt',\n",
       " 'response_B': '<div class=\"utterance\"><b>Speaker 1:</b>  Did you have a good time in Korea? I\\'ve heard it\\'s very different from America. </div>',\n",
       " 'response_B_raw': \" Did you have a good time in Korea? I've heard it's very different from America.\",\n",
       " 'response_B_source': 'Blenderbot-400M-ft'}"
      ]
     },
     "execution_count": 4,
     "metadata": {},
     "output_type": "execute_result"
    }
   ],
   "source": [
    "data[0]"
   ]
  },
  {
   "cell_type": "code",
   "execution_count": 5,
   "id": "34934487-9403-4fff-91c3-76ca0a5fd03c",
   "metadata": {},
   "outputs": [],
   "source": [
    "with app.app_context():\n",
    "    db.create_all()\n",
    "    for row in data:\n",
    "        # print(row)\n",
    "        q = Question(\n",
    "            sample_id=row['id'],\n",
    "            context=json.dumps(row['context_raw']),\n",
    "            response_a=row['response_A_raw'],\n",
    "            response_b=row['response_B_raw'],\n",
    "            response_a_src=row['response_A_source'],\n",
    "            response_b_src=row['response_B_source'],\n",
    "            is_active=True\n",
    "        )\n",
    "        db.session.add(q)\n",
    "    db.session.commit()"
   ]
  },
  {
   "cell_type": "code",
   "execution_count": 6,
   "id": "01677920-fca2-4449-bd18-ee1c27225b9f",
   "metadata": {},
   "outputs": [
    {
     "name": "stdout",
     "output_type": "stream",
     "text": [
      "User('user1', 'https://localhost')\n"
     ]
    }
   ],
   "source": [
    "with app.app_context():\n",
    "    demo_user = User(\n",
    "        prolific_pid=\"user1\",\n",
    "        ref_url=\"https://localhost\"\n",
    "    )\n",
    "    print(demo_user)\n",
    "    db.session.add(demo_user)\n",
    "    db.session.commit()"
   ]
  },
  {
   "cell_type": "code",
   "execution_count": 8,
   "id": "afcadf1c-a742-4b86-b6a5-14ab117b3390",
   "metadata": {},
   "outputs": [
    {
     "name": "stdout",
     "output_type": "stream",
     "text": [
      "[User('user1', 'https://localhost')]\n"
     ]
    }
   ],
   "source": [
    "with app.app_context():\n",
    "    print(User.query.all())"
   ]
  },
  {
   "cell_type": "code",
   "execution_count": 9,
   "id": "c217f99f-50f6-49c7-ac15-c995e2bf28dd",
   "metadata": {},
   "outputs": [
    {
     "name": "stdout",
     "output_type": "stream",
     "text": [
      "[Question('sid:4197', 'gt' vs. 'Blenderbot-400M-ft', '2023-07-29 12:40:22.356303', active:'True'), Question('sid:4197', 'CORAL.BB-BERT-mixp' vs. 'gt', '2023-07-29 12:40:22.356307', active:'True'), Question('sid:4197', 'DialogRPT-new' vs. 'gt', '2023-07-29 12:40:22.356309', active:'True'), Question('sid:1959', 'Blenderbot-400M-ft' vs. 'gt', '2023-07-29 12:40:22.356310', active:'True'), Question('sid:1959', 'CORAL.BB-BERT-mixp' vs. 'gt', '2023-07-29 12:40:22.356310', active:'True'), Question('sid:1959', 'DialogRPT-new' vs. 'gt', '2023-07-29 12:40:22.356311', active:'True'), Question('sid:1768', 'gt' vs. 'Blenderbot-400M-ft', '2023-07-29 12:40:22.356312', active:'True'), Question('sid:1768', 'CORAL.BB-BERT-mixp' vs. 'gt', '2023-07-29 12:40:22.356313', active:'True'), Question('sid:1768', 'gt' vs. 'DialogRPT-new', '2023-07-29 12:40:22.356313', active:'True'), Question('sid:4065', 'Blenderbot-400M-ft' vs. 'gt', '2023-07-29 12:40:22.356314', active:'True'), Question('sid:4065', 'gt' vs. 'CORAL.BB-BERT-mixp', '2023-07-29 12:40:22.356315', active:'True'), Question('sid:4065', 'DialogRPT-new' vs. 'gt', '2023-07-29 12:40:22.356316', active:'True'), Question('sid:5101', 'Blenderbot-400M-ft' vs. 'gt', '2023-07-29 12:40:22.356316', active:'True'), Question('sid:5101', 'CORAL.BB-BERT-mixp' vs. 'gt', '2023-07-29 12:40:22.356317', active:'True'), Question('sid:5101', 'DialogRPT-new' vs. 'gt', '2023-07-29 12:40:22.356318', active:'True'), Question('sid:3515', 'Blenderbot-400M-ft' vs. 'gt', '2023-07-29 12:40:22.356319', active:'True'), Question('sid:3515', 'gt' vs. 'CORAL.BB-BERT-mixp', '2023-07-29 12:40:22.356319', active:'True'), Question('sid:3515', 'DialogRPT-new' vs. 'gt', '2023-07-29 12:40:22.356320', active:'True'), Question('sid:2100', 'Blenderbot-400M-ft' vs. 'gt', '2023-07-29 12:40:22.356321', active:'True'), Question('sid:2100', 'gt' vs. 'CORAL.BB-BERT-mixp', '2023-07-29 12:40:22.356322', active:'True'), Question('sid:2100', 'gt' vs. 'DialogRPT-new', '2023-07-29 12:40:22.356323', active:'True'), Question('sid:482', 'gt' vs. 'Blenderbot-400M-ft', '2023-07-29 12:40:22.356324', active:'True'), Question('sid:482', 'CORAL.BB-BERT-mixp' vs. 'gt', '2023-07-29 12:40:22.356324', active:'True'), Question('sid:482', 'DialogRPT-new' vs. 'gt', '2023-07-29 12:40:22.356325', active:'True'), Question('sid:4569', 'gt' vs. 'Blenderbot-400M-ft', '2023-07-29 12:40:22.356326', active:'True'), Question('sid:4569', 'CORAL.BB-BERT-mixp' vs. 'gt', '2023-07-29 12:40:22.356327', active:'True'), Question('sid:4569', 'gt' vs. 'DialogRPT-new', '2023-07-29 12:40:22.356328', active:'True'), Question('sid:2845', 'Blenderbot-400M-ft' vs. 'gt', '2023-07-29 12:40:22.356329', active:'True'), Question('sid:2845', 'gt' vs. 'CORAL.BB-BERT-mixp', '2023-07-29 12:40:22.356330', active:'True'), Question('sid:2845', 'DialogRPT-new' vs. 'gt', '2023-07-29 12:40:22.356331', active:'True'), Question('sid:3594', 'gt' vs. 'Blenderbot-400M-ft', '2023-07-29 12:40:22.356331', active:'True'), Question('sid:3594', 'CORAL.BB-BERT-mixp' vs. 'gt', '2023-07-29 12:40:22.356332', active:'True'), Question('sid:3594', 'gt' vs. 'DialogRPT-new', '2023-07-29 12:40:22.356333', active:'True'), Question('sid:3785', 'Blenderbot-400M-ft' vs. 'gt', '2023-07-29 12:40:22.356334', active:'True'), Question('sid:3785', 'gt' vs. 'CORAL.BB-BERT-mixp', '2023-07-29 12:40:22.356335', active:'True'), Question('sid:3785', 'gt' vs. 'DialogRPT-new', '2023-07-29 12:40:22.356336', active:'True'), Question('sid:546', 'gt' vs. 'Blenderbot-400M-ft', '2023-07-29 12:40:22.356341', active:'True'), Question('sid:546', 'gt' vs. 'CORAL.BB-BERT-mixp', '2023-07-29 12:40:22.356342', active:'True'), Question('sid:546', 'DialogRPT-new' vs. 'gt', '2023-07-29 12:40:22.356343', active:'True'), Question('sid:3436', 'Blenderbot-400M-ft' vs. 'gt', '2023-07-29 12:40:22.356343', active:'True'), Question('sid:3436', 'CORAL.BB-BERT-mixp' vs. 'gt', '2023-07-29 12:40:22.356344', active:'True'), Question('sid:3436', 'DialogRPT-new' vs. 'gt', '2023-07-29 12:40:22.356345', active:'True'), Question('sid:3998', 'gt' vs. 'Blenderbot-400M-ft', '2023-07-29 12:40:22.356346', active:'True'), Question('sid:3998', 'CORAL.BB-BERT-mixp' vs. 'gt', '2023-07-29 12:40:22.356347', active:'True'), Question('sid:3998', 'DialogRPT-new' vs. 'gt', '2023-07-29 12:40:22.356348', active:'True'), Question('sid:4577', 'gt' vs. 'Blenderbot-400M-ft', '2023-07-29 12:40:22.356348', active:'True'), Question('sid:4577', 'CORAL.BB-BERT-mixp' vs. 'gt', '2023-07-29 12:40:22.356349', active:'True'), Question('sid:4577', 'gt' vs. 'DialogRPT-new', '2023-07-29 12:40:22.356351', active:'True'), Question('sid:783', 'gt' vs. 'Blenderbot-400M-ft', '2023-07-29 12:40:22.356352', active:'True'), Question('sid:783', 'gt' vs. 'CORAL.BB-BERT-mixp', '2023-07-29 12:40:22.356353', active:'True'), Question('sid:783', 'gt' vs. 'DialogRPT-new', '2023-07-29 12:40:22.356354', active:'True'), Question('sid:4095', 'gt' vs. 'Blenderbot-400M-ft', '2023-07-29 12:40:22.356355', active:'True'), Question('sid:4095', 'gt' vs. 'CORAL.BB-BERT-mixp', '2023-07-29 12:40:22.356356', active:'True'), Question('sid:4095', 'gt' vs. 'DialogRPT-new', '2023-07-29 12:40:22.356357', active:'True'), Question('sid:634', 'Blenderbot-400M-ft' vs. 'gt', '2023-07-29 12:40:22.356358', active:'True'), Question('sid:634', 'CORAL.BB-BERT-mixp' vs. 'gt', '2023-07-29 12:40:22.356359', active:'True'), Question('sid:634', 'DialogRPT-new' vs. 'gt', '2023-07-29 12:40:22.356359', active:'True'), Question('sid:5401', 'gt' vs. 'Blenderbot-400M-ft', '2023-07-29 12:40:22.356360', active:'True'), Question('sid:5401', 'gt' vs. 'CORAL.BB-BERT-mixp', '2023-07-29 12:40:22.356361', active:'True'), Question('sid:5401', 'DialogRPT-new' vs. 'gt', '2023-07-29 12:40:22.356362', active:'True'), Question('sid:2745', 'Blenderbot-400M-ft' vs. 'gt', '2023-07-29 12:40:22.356363', active:'True'), Question('sid:2745', 'gt' vs. 'CORAL.BB-BERT-mixp', '2023-07-29 12:40:22.356364', active:'True'), Question('sid:2745', 'DialogRPT-new' vs. 'gt', '2023-07-29 12:40:22.356365', active:'True'), Question('sid:5168', 'gt' vs. 'Blenderbot-400M-ft', '2023-07-29 12:40:22.356366', active:'True'), Question('sid:5168', 'CORAL.BB-BERT-mixp' vs. 'gt', '2023-07-29 12:40:22.356366', active:'True'), Question('sid:5168', 'gt' vs. 'DialogRPT-new', '2023-07-29 12:40:22.356367', active:'True'), Question('sid:3451', 'gt' vs. 'Blenderbot-400M-ft', '2023-07-29 12:40:22.356368', active:'True'), Question('sid:3451', 'gt' vs. 'CORAL.BB-BERT-mixp', '2023-07-29 12:40:22.356369', active:'True'), Question('sid:3451', 'DialogRPT-new' vs. 'gt', '2023-07-29 12:40:22.356370', active:'True'), Question('sid:3697', 'Blenderbot-400M-ft' vs. 'gt', '2023-07-29 12:40:22.356371', active:'True'), Question('sid:3697', 'gt' vs. 'CORAL.BB-BERT-mixp', '2023-07-29 12:40:22.356372', active:'True'), Question('sid:3697', 'DialogRPT-new' vs. 'gt', '2023-07-29 12:40:22.356372', active:'True'), Question('sid:4939', 'gt' vs. 'Blenderbot-400M-ft', '2023-07-29 12:40:22.356373', active:'True'), Question('sid:4939', 'gt' vs. 'CORAL.BB-BERT-mixp', '2023-07-29 12:40:22.356374', active:'True'), Question('sid:4939', 'gt' vs. 'DialogRPT-new', '2023-07-29 12:40:22.356375', active:'True'), Question('sid:5521', 'gt' vs. 'Blenderbot-400M-ft', '2023-07-29 12:40:22.356376', active:'True'), Question('sid:5521', 'CORAL.BB-BERT-mixp' vs. 'gt', '2023-07-29 12:40:22.356376', active:'True'), Question('sid:5521', 'DialogRPT-new' vs. 'gt', '2023-07-29 12:40:22.356377', active:'True'), Question('sid:5251', 'gt' vs. 'Blenderbot-400M-ft', '2023-07-29 12:40:22.356378', active:'True'), Question('sid:5251', 'gt' vs. 'CORAL.BB-BERT-mixp', '2023-07-29 12:40:22.356379', active:'True'), Question('sid:5251', 'gt' vs. 'DialogRPT-new', '2023-07-29 12:40:22.356379', active:'True'), Question('sid:885', 'Blenderbot-400M-ft' vs. 'gt', '2023-07-29 12:40:22.356380', active:'True'), Question('sid:885', 'gt' vs. 'CORAL.BB-BERT-mixp', '2023-07-29 12:40:22.356381', active:'True'), Question('sid:885', 'gt' vs. 'DialogRPT-new', '2023-07-29 12:40:22.356381', active:'True'), Question('sid:1478', 'gt' vs. 'Blenderbot-400M-ft', '2023-07-29 12:40:22.356382', active:'True'), Question('sid:1478', 'CORAL.BB-BERT-mixp' vs. 'gt', '2023-07-29 12:40:22.356383', active:'True'), Question('sid:1478', 'DialogRPT-new' vs. 'gt', '2023-07-29 12:40:22.356384', active:'True'), Question('sid:2624', 'gt' vs. 'Blenderbot-400M-ft', '2023-07-29 12:40:22.356385', active:'True'), Question('sid:2624', 'gt' vs. 'CORAL.BB-BERT-mixp', '2023-07-29 12:40:22.356385', active:'True'), Question('sid:2624', 'gt' vs. 'DialogRPT-new', '2023-07-29 12:40:22.356386', active:'True'), Question('sid:2629', 'Blenderbot-400M-ft' vs. 'gt', '2023-07-29 12:40:22.356387', active:'True'), Question('sid:2629', 'CORAL.BB-BERT-mixp' vs. 'gt', '2023-07-29 12:40:22.356388', active:'True'), Question('sid:2629', 'gt' vs. 'DialogRPT-new', '2023-07-29 12:40:22.356389', active:'True'), Question('sid:4136', 'Blenderbot-400M-ft' vs. 'gt', '2023-07-29 12:40:22.356389', active:'True'), Question('sid:4136', 'gt' vs. 'CORAL.BB-BERT-mixp', '2023-07-29 12:40:22.356390', active:'True'), Question('sid:4136', 'gt' vs. 'DialogRPT-new', '2023-07-29 12:40:22.356391', active:'True'), Question('sid:248', 'Blenderbot-400M-ft' vs. 'gt', '2023-07-29 12:40:22.356392', active:'True'), Question('sid:248', 'gt' vs. 'CORAL.BB-BERT-mixp', '2023-07-29 12:40:22.356393', active:'True'), Question('sid:248', 'DialogRPT-new' vs. 'gt', '2023-07-29 12:40:22.356394', active:'True'), Question('sid:4733', 'gt' vs. 'Blenderbot-400M-ft', '2023-07-29 12:40:22.356395', active:'True'), Question('sid:4733', 'gt' vs. 'CORAL.BB-BERT-mixp', '2023-07-29 12:40:22.356395', active:'True'), Question('sid:4733', 'gt' vs. 'DialogRPT-new', '2023-07-29 12:40:22.356396', active:'True'), Question('sid:5983', 'gt' vs. 'Blenderbot-400M-ft', '2023-07-29 12:40:22.356397', active:'True'), Question('sid:5983', 'gt' vs. 'CORAL.BB-BERT-mixp', '2023-07-29 12:40:22.356398', active:'True'), Question('sid:5983', 'gt' vs. 'DialogRPT-new', '2023-07-29 12:40:22.356399', active:'True'), Question('sid:3544', 'gt' vs. 'Blenderbot-400M-ft', '2023-07-29 12:40:22.356400', active:'True'), Question('sid:3544', 'CORAL.BB-BERT-mixp' vs. 'gt', '2023-07-29 12:40:22.356401', active:'True'), Question('sid:3544', 'gt' vs. 'DialogRPT-new', '2023-07-29 12:40:22.356402', active:'True'), Question('sid:774', 'gt' vs. 'Blenderbot-400M-ft', '2023-07-29 12:40:22.356403', active:'True'), Question('sid:774', 'CORAL.BB-BERT-mixp' vs. 'gt', '2023-07-29 12:40:22.356404', active:'True'), Question('sid:774', 'gt' vs. 'DialogRPT-new', '2023-07-29 12:40:22.356405', active:'True'), Question('sid:4119', 'Blenderbot-400M-ft' vs. 'gt', '2023-07-29 12:40:22.356405', active:'True'), Question('sid:4119', 'CORAL.BB-BERT-mixp' vs. 'gt', '2023-07-29 12:40:22.356406', active:'True'), Question('sid:4119', 'DialogRPT-new' vs. 'gt', '2023-07-29 12:40:22.356407', active:'True'), Question('sid:2686', 'Blenderbot-400M-ft' vs. 'gt', '2023-07-29 12:40:22.356408', active:'True'), Question('sid:2686', 'gt' vs. 'CORAL.BB-BERT-mixp', '2023-07-29 12:40:22.356409', active:'True'), Question('sid:2686', 'DialogRPT-new' vs. 'gt', '2023-07-29 12:40:22.356409', active:'True'), Question('sid:3578', 'Blenderbot-400M-ft' vs. 'gt', '2023-07-29 12:40:22.356410', active:'True'), Question('sid:3578', 'gt' vs. 'CORAL.BB-BERT-mixp', '2023-07-29 12:40:22.356411', active:'True'), Question('sid:3578', 'DialogRPT-new' vs. 'gt', '2023-07-29 12:40:22.356412', active:'True'), Question('sid:69', 'Blenderbot-400M-ft' vs. 'gt', '2023-07-29 12:40:22.356417', active:'True'), Question('sid:69', 'CORAL.BB-BERT-mixp' vs. 'gt', '2023-07-29 12:40:22.356418', active:'True'), Question('sid:69', 'DialogRPT-new' vs. 'gt', '2023-07-29 12:40:22.356419', active:'True'), Question('sid:3407', 'Blenderbot-400M-ft' vs. 'gt', '2023-07-29 12:40:22.356420', active:'True'), Question('sid:3407', 'CORAL.BB-BERT-mixp' vs. 'gt', '2023-07-29 12:40:22.356421', active:'True'), Question('sid:3407', 'DialogRPT-new' vs. 'gt', '2023-07-29 12:40:22.356422', active:'True'), Question('sid:5309', 'gt' vs. 'Blenderbot-400M-ft', '2023-07-29 12:40:22.356423', active:'True'), Question('sid:5309', 'gt' vs. 'CORAL.BB-BERT-mixp', '2023-07-29 12:40:22.356424', active:'True'), Question('sid:5309', 'DialogRPT-new' vs. 'gt', '2023-07-29 12:40:22.356425', active:'True'), Question('sid:31', 'gt' vs. 'Blenderbot-400M-ft', '2023-07-29 12:40:22.356426', active:'True'), Question('sid:31', 'CORAL.BB-BERT-mixp' vs. 'gt', '2023-07-29 12:40:22.356426', active:'True'), Question('sid:31', 'gt' vs. 'DialogRPT-new', '2023-07-29 12:40:22.356427', active:'True'), Question('sid:3816', 'gt' vs. 'Blenderbot-400M-ft', '2023-07-29 12:40:22.356428', active:'True'), Question('sid:3816', 'CORAL.BB-BERT-mixp' vs. 'gt', '2023-07-29 12:40:22.356429', active:'True'), Question('sid:3816', 'DialogRPT-new' vs. 'gt', '2023-07-29 12:40:22.356430', active:'True'), Question('sid:2379', 'gt' vs. 'Blenderbot-400M-ft', '2023-07-29 12:40:22.356431', active:'True'), Question('sid:2379', 'CORAL.BB-BERT-mixp' vs. 'gt', '2023-07-29 12:40:22.356432', active:'True'), Question('sid:2379', 'gt' vs. 'DialogRPT-new', '2023-07-29 12:40:22.356432', active:'True'), Question('sid:1461', 'Blenderbot-400M-ft' vs. 'gt', '2023-07-29 12:40:22.356433', active:'True'), Question('sid:1461', 'CORAL.BB-BERT-mixp' vs. 'gt', '2023-07-29 12:40:22.356434', active:'True'), Question('sid:1461', 'DialogRPT-new' vs. 'gt', '2023-07-29 12:40:22.356435', active:'True'), Question('sid:2661', 'Blenderbot-400M-ft' vs. 'gt', '2023-07-29 12:40:22.356436', active:'True'), Question('sid:2661', 'gt' vs. 'CORAL.BB-BERT-mixp', '2023-07-29 12:40:22.356436', active:'True'), Question('sid:2661', 'gt' vs. 'DialogRPT-new', '2023-07-29 12:40:22.356437', active:'True'), Question('sid:4583', 'gt' vs. 'Blenderbot-400M-ft', '2023-07-29 12:40:22.356438', active:'True'), Question('sid:4583', 'gt' vs. 'CORAL.BB-BERT-mixp', '2023-07-29 12:40:22.356439', active:'True'), Question('sid:4583', 'gt' vs. 'DialogRPT-new', '2023-07-29 12:40:22.356440', active:'True'), Question('sid:1793', 'Blenderbot-400M-ft' vs. 'gt', '2023-07-29 12:40:22.356441', active:'True'), Question('sid:1793', 'CORAL.BB-BERT-mixp' vs. 'gt', '2023-07-29 12:40:22.356443', active:'True'), Question('sid:1793', 'DialogRPT-new' vs. 'gt', '2023-07-29 12:40:22.356444', active:'True')]\n"
     ]
    }
   ],
   "source": [
    "with app.app_context():\n",
    "    print(Question.query.all())"
   ]
  },
  {
   "cell_type": "code",
   "execution_count": null,
   "id": "3016d472",
   "metadata": {},
   "outputs": [],
   "source": []
  }
 ],
 "metadata": {
  "kernelspec": {
   "display_name": "Python 3",
   "language": "python",
   "name": "python3"
  },
  "language_info": {
   "codemirror_mode": {
    "name": "ipython",
    "version": 3
   },
   "file_extension": ".py",
   "mimetype": "text/x-python",
   "name": "python",
   "nbconvert_exporter": "python",
   "pygments_lexer": "ipython3",
   "version": "3.8.12"
  }
 },
 "nbformat": 4,
 "nbformat_minor": 5
}
